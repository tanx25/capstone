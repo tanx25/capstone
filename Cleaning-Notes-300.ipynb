{
 "cells": [
  {
   "cell_type": "code",
   "execution_count": null,
   "id": "af3dbab2",
   "metadata": {},
   "outputs": [],
   "source": [
    "import pandas as pd\n",
    "import re"
   ]
  },
  {
   "cell_type": "code",
   "execution_count": null,
   "id": "8ed0dce6",
   "metadata": {},
   "outputs": [],
   "source": [
    "def extract_keywords(text, keywords, char_limit=300):\n",
    "    extracted_texts = []\n",
    "    for keyword in keywords:\n",
    "        pattern = re.compile(f'({keyword}.{{0,{char_limit}}})', re.IGNORECASE | re.DOTALL)\n",
    "        matches = pattern.findall(text)\n",
    "        extracted_texts.extend(matches)\n",
    "    return ' | '.join(extracted_texts)"
   ]
  },
  {
   "cell_type": "code",
   "execution_count": null,
   "id": "1e15b486",
   "metadata": {},
   "outputs": [],
   "source": [
    "input_file = \"input.xlsx\"\n",
    "output_file = \"output.xlsx\"\n",
    "df = pd.read_excel(input_file)"
   ]
  },
  {
   "cell_type": "code",
   "execution_count": null,
   "id": "b9c249d7",
   "metadata": {},
   "outputs": [],
   "source": [
    "keywords = ['manejo', 'tratamiento', 'procedimientos', 'quimioterapia']\n",
    "df['Extracted Text'] = df['Subjetivo'].apply(lambda x: extract_keywords(str(x), keywords))"
   ]
  },
  {
   "cell_type": "code",
   "execution_count": null,
   "id": "464bc7e9",
   "metadata": {},
   "outputs": [],
   "source": [
    "df.to_excel(output_file, index=False)"
   ]
  }
 ],
 "metadata": {
  "kernelspec": {
   "display_name": "Python 3 (ipykernel)",
   "language": "python",
   "name": "python3"
  },
  "language_info": {
   "codemirror_mode": {
    "name": "ipython",
    "version": 3
   },
   "file_extension": ".py",
   "mimetype": "text/x-python",
   "name": "python",
   "nbconvert_exporter": "python",
   "pygments_lexer": "ipython3",
   "version": "3.11.5"
  },
  "toc": {
   "base_numbering": 1,
   "nav_menu": {},
   "number_sections": true,
   "sideBar": true,
   "skip_h1_title": false,
   "title_cell": "Table of Contents",
   "title_sidebar": "Contents",
   "toc_cell": false,
   "toc_position": {},
   "toc_section_display": true,
   "toc_window_display": false
  }
 },
 "nbformat": 4,
 "nbformat_minor": 5
}
